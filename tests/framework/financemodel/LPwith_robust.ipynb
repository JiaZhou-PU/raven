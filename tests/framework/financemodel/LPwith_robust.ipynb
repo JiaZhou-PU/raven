{
 "cells": [
  {
   "cell_type": "markdown",
   "metadata": {},
   "source": [
    "# Lp problem with uncertanty"
   ]
  },
  {
   "cell_type": "code",
   "execution_count": 1,
   "metadata": {},
   "outputs": [],
   "source": [
    "# Import library\n",
    "import numpy as np\n",
    "from scipy.optimize import minimize\n",
    "import matplotlib.pyplot as plt"
   ]
  },
  {
   "cell_type": "markdown",
   "metadata": {},
   "source": [
    "## Problem\n",
    "\n",
    "We want to minimize the total capacity of energies and tables by each hour satisfy the electricity demand."
   ]
  },
  {
   "cell_type": "markdown",
   "metadata": {},
   "source": [
    "|             | solar| wind |coal  |gas   |nuclear| Load |\n",
    "|-------------|------|------|------|------|-------|------|\n",
    "| Hour 1 (i=1)| 0.9  | 0.8  | 1.   | 0.95 | 1     | 5    |\n",
    "| Hour 2 (i=2)| 1.1  | 0.3  | 1.1  | 1.01 | 1.5   | 9    |\n",
    "| Available   | j=1  | j=2  | j=3  | j=4  | j=5   |      |"
   ]
  },
  {
   "cell_type": "markdown",
   "metadata": {},
   "source": [
    "The table show the energy provided (on average each index hour) for an ideal case."
   ]
  },
  {
   "cell_type": "markdown",
   "metadata": {},
   "source": [
    "## Ideal case - simple linear programming"
   ]
  },
  {
   "cell_type": "markdown",
   "metadata": {},
   "source": [
    "Assume the resource consumption is exact."
   ]
  },
  {
   "cell_type": "code",
   "execution_count": 2,
   "metadata": {},
   "outputs": [],
   "source": [
    "labels = 'solar', 'wind','coal','gas','nuclear'\n",
    "\n",
    "# Coefficients of the cost function\n",
    "cost = np.array([1.1, 0.3, 1.1, 1.01, 1.5]) # minimize problem suppose cost is listed\n",
    "\n",
    "# Coefficients of the constraints\n",
    "cons1 = np.array([0.9, 0.8, 1. , 0.95, 1. ])\n",
    "cons2 = np.array([1.1, 0.3, 1.1, 1.01, 1.5])\n",
    "\n",
    "# Cost function\n",
    "fun = lambda x: np.sum(cost * x)\n",
    "\n",
    "# Constraints - ineq: greater than 0\n",
    "cons = ({'type': 'ineq', 'fun': lambda x: np.sum(cons1 * x)-5},\n",
    "        {'type': 'ineq', 'fun': lambda x: np.sum(cons2 * x)-9})\n",
    "\n",
    "# Bounds\n",
    "bounds = ((0, None),(0, None),(0, None),(0, None),(0, None))\n",
    "\n",
    "# Initial guess\n",
    "init_guess = np.array([1., 1., 1., 1., 1.])"
   ]
  },
  {
   "cell_type": "code",
   "execution_count": 3,
   "metadata": {},
   "outputs": [
    {
     "name": "stdout",
     "output_type": "stream",
     "text": [
      "Cost function opt results:  9.0\n",
      "Alocation: \n"
     ]
    },
    {
     "data": {
      "image/png": "[encoded data removed]",
      "text/plain": [
       "<Figure size 432x288 with 1 Axes>"
      ]
     },
     "metadata": {},
     "output_type": "display_data"
    }
   ],
   "source": [
    "# Optimize\n",
    "\n",
    "opt_results = minimize(fun, init_guess, method='SLSQP', bounds=bounds, constraints=cons)\n",
    "Alocation = opt_results['x']\n",
    "print('Cost function opt results: ',round(opt_results['fun'],2))\n",
    "print('Alocation: ')\n",
    "sizes = Alocation.tolist()\n",
    "\n",
    "fig1, ax1 = plt.subplots()\n",
    "ax1.pie(sizes, labels=labels, autopct='%1.1f%%',\n",
    "        shadow=True, startangle=90)\n",
    "\n",
    "plt.show()"
   ]
  },
  {
   "cell_type": "code",
   "execution_count": 4,
   "metadata": {},
   "outputs": [
    {
     "name": "stdout",
     "output_type": "stream",
     "text": [
      "objective cost function: 9.0\n",
      "constraint 1: True\n",
      "constraint 2: True\n"
     ]
    }
   ],
   "source": [
    "print(\"objective cost function:\", round(np.sum(cost * Alocation), 4))\n",
    "print(\"constraint 1:\", round(np.sum(cons1 * Alocation), 6) >= 5)\n",
    "print(\"constraint 2:\", round(np.sum(cons2 * Alocation), 6) >= 9)"
   ]
  },
  {
   "cell_type": "markdown",
   "metadata": {},
   "source": [
    "## With uncertainty"
   ]
  },
  {
   "cell_type": "markdown",
   "metadata": {},
   "source": [
    "What if the resource consumption is uncertaion? i.e., the coeffiecients deviate form its nominal (average) value.  "
   ]
  },
  {
   "cell_type": "markdown",
   "metadata": {},
   "source": [
    "|             | solar  | wind    |   coal   |   gas   |nuclear  | Load |\n",
    "|-------------|--------|------|------|------|-------|------|\n",
    "| Hour 1 (i=1)| 0.9±0.3| 0.8±0.2 | 1. ±0.1  | 0.95±0.1 | 1  ±0.05   | 5   |\n",
    "| Hour 2 (i=2)| 1.1±0.2| 0.3±0.25| 1.1±0.15 | 1.01±0.12| 1.5±0.04   | 9    |\n",
    "| Available   | j=1  | j=2  | j=3  | j=4  | j=5   |      |"
   ]
  },
  {
   "cell_type": "markdown",
   "metadata": {},
   "source": [
    "### Optmistic case"
   ]
  },
  {
   "cell_type": "markdown",
   "metadata": {},
   "source": [
    "use the most resource to produce more electricity.\n",
    "\n",
    "|             | solar  | wind    |   coal   |   gas   |nuclear  | Load |\n",
    "|-------------|--------|------|------|------|-------|------|\n",
    "| Hour 1 (i=1)| 0.9+0.3| 0.8+0.2 | 1. +0.1  | 0.95+0.1 | 1  +0.05   | 5   |\n",
    "| Hour 2 (i=2)| 1.1+0.2| 0.3+0.25| 1.1+0.15 | 1.01+0.12| 1.5+0.04   | 9    |\n",
    "| Available   | j=1  | j=2  | j=3  | j=4  | j=5   |      |"
   ]
  },
  {
   "cell_type": "code",
   "execution_count": 5,
   "metadata": {},
   "outputs": [],
   "source": [
    "# Coefficients of the cost function\n",
    "cost = np.array([1.1, 0.3, 1.1, 1.01, 1.5]) # minimize problem suppose cost is listed\n",
    "\n",
    "# Coefficients of the constraints\n",
    "cons1 = np.array([1.2, 1.  , 1.1 , 1.05, 1.05 ])\n",
    "cons2 = np.array([1.3, 0.55, 1.25, 1.13, 1.54])\n",
    "\n",
    "# Cost function\n",
    "fun = lambda x: np.sum(cost * x)\n",
    "\n",
    "# Constraints - ineq: greater than 0\n",
    "cons = ({'type': 'ineq', 'fun': lambda x: np.sum(cons1 * x)-5},\n",
    "        {'type': 'ineq', 'fun': lambda x: np.sum(cons2 * x)-9})\n",
    "\n",
    "# Bounds\n",
    "bounds = ((0, None),(0, None),(0, None),(0, None),(0, None))\n",
    "\n",
    "# Initial guess\n",
    "init_guess = np.array([1., 1., 1., 1., 1.])"
   ]
  },
  {
   "cell_type": "code",
   "execution_count": 6,
   "metadata": {},
   "outputs": [
    {
     "name": "stdout",
     "output_type": "stream",
     "text": [
      "Cost function opt results:  4.91\n",
      "Alocation: \n"
     ]
    },
    {
     "data": {
      "image/png": "[encoded data removed]",
      "text/plain": [
       "<Figure size 432x288 with 1 Axes>"
      ]
     },
     "metadata": {},
     "output_type": "display_data"
    }
   ],
   "source": [
    "# Optimize\n",
    "opt_results = minimize(fun, init_guess, method='SLSQP', bounds=bounds, constraints=cons)\n",
    "Alocation = opt_results['x']\n",
    "print('Cost function opt results: ',round(opt_results['fun'],2))\n",
    "print('Alocation: ')\n",
    "sizes = Alocation.tolist()\n",
    "\n",
    "fig1, ax1 = plt.subplots()\n",
    "ax1.pie(sizes, labels=labels, autopct='%1.1f%%',\n",
    "        shadow=True, startangle=90)\n",
    "plt.show()\n"
   ]
  },
  {
   "cell_type": "code",
   "execution_count": 7,
   "metadata": {},
   "outputs": [
    {
     "name": "stdout",
     "output_type": "stream",
     "text": [
      "objective cost function: 4.9091\n",
      "constraint 1: True\n",
      "constraint 2: True\n"
     ]
    }
   ],
   "source": [
    "print(\"objective cost function:\", round(np.sum(cost * Alocation), 4))\n",
    "print(\"constraint 1:\", round(np.sum(cons1 * Alocation), 6) >= 5)\n",
    "print(\"constraint 2:\", round(np.sum(cons2 * Alocation), 6) >= 9)"
   ]
  },
  {
   "cell_type": "markdown",
   "metadata": {},
   "source": [
    "### Pessimistic case"
   ]
  },
  {
   "cell_type": "markdown",
   "metadata": {},
   "source": [
    "use the least resource to produce less electricity.\n",
    "\n",
    "|             | solar  | wind    |   coal   |   gas   |nuclear  | Load |\n",
    "|-------------|--------|------|------|------|-------|------|\n",
    "| Hour 1 (i=1)| 0.9-0.3| 0.8-0.2 | 1. -0.1  | 0.95-0.1 | 1  -0.05   | 5   |\n",
    "| Hour 2 (i=2)| 1.1-0.2| 0.3-0.25| 1.1-0.15 | 1.01-0.12| 1.5-0.04   | 9    |\n",
    "| Available   | j=1  | j=2  | j=3  | j=4  | j=5   |      |"
   ]
  },
  {
   "cell_type": "code",
   "execution_count": 8,
   "metadata": {},
   "outputs": [],
   "source": [
    "# Coefficients of the cost function\n",
    "cost = np.array([1.1, 0.3, 1.1, 1.01, 1.5]) # minimize problem suppose cost is listed\n",
    "\n",
    "# Coefficients of the constraints\n",
    "cons1 = np.array([0.6, 0.6 , 0.9 , 0.85, 0.95 ])\n",
    "cons2 = np.array([0.9, 0.05, 0.95, 0.89, 1.46])\n",
    "\n",
    "# Cost function\n",
    "fun = lambda x: np.sum(cost * x)\n",
    "\n",
    "# Constraints - ineq: greater than 0\n",
    "cons = ({'type': 'ineq', 'fun': lambda x: np.sum(cons1 * x)-5},\n",
    "        {'type': 'ineq', 'fun': lambda x: np.sum(cons2 * x)-9})\n",
    "\n",
    "# Bounds\n",
    "bounds = ((0, None),(0, None),(0, None),(0, None),(0, None))\n",
    "\n",
    "# Initial guess\n",
    "init_guess = np.array([1., 1., 1., 1., 1.])\n"
   ]
  },
  {
   "cell_type": "code",
   "execution_count": 9,
   "metadata": {},
   "outputs": [
    {
     "name": "stdout",
     "output_type": "stream",
     "text": [
      "Cost function opt results:  9.25\n",
      "Alocation: \n"
     ]
    },
    {
     "data": {
      "image/png": "[encoded data removed]",
      "text/plain": [
       "<Figure size 432x288 with 1 Axes>"
      ]
     },
     "metadata": {},
     "output_type": "display_data"
    }
   ],
   "source": [
    "# Optimize\n",
    "opt_results = minimize(fun, init_guess, method='SLSQP', bounds=bounds, constraints=cons)\n",
    "\n",
    "Alocation = opt_results['x']\n",
    "print('Cost function opt results: ',round(opt_results['fun'],2))\n",
    "print('Alocation: ')\n",
    "sizes = Alocation.tolist()\n",
    "\n",
    "fig1, ax1 = plt.subplots()\n",
    "ax1.pie(sizes, labels=labels, autopct='%1.1f%%',\n",
    "        shadow=True, startangle=90)\n",
    "plt.show()"
   ]
  },
  {
   "cell_type": "code",
   "execution_count": 10,
   "metadata": {},
   "outputs": [
    {
     "name": "stdout",
     "output_type": "stream",
     "text": [
      "objective cost function: 9.2466\n",
      "constraint 1: True\n",
      "constraint 2: True\n"
     ]
    }
   ],
   "source": [
    "print(\"objective cost function:\", round(np.sum(cost * Alocation), 4))\n",
    "print(\"constraint 1:\", round(np.sum(cons1 * Alocation), 6) >= 5)\n",
    "print(\"constraint 2:\", round(np.sum(cons2 * Alocation), 6) >= 9)"
   ]
  },
  {
   "cell_type": "code",
   "execution_count": null,
   "metadata": {},
   "outputs": [],
   "source": []
  },
  {
   "cell_type": "markdown",
   "metadata": {},
   "source": [
    "### Robust optimization"
   ]
  },
  {
   "cell_type": "markdown",
   "metadata": {},
   "source": [
    "<!--bibtex\n",
    "@article{bertsimas2004price,\n",
    "  title={The price of robustness},\n",
    "  author={Bertsimas, Dimitris and Sim, Melvyn},\n",
    "  journal={Operations research},\n",
    "  volume={52},\n",
    "  number={1},\n",
    "  pages={35--53},\n",
    "  year={2004},\n",
    "  publisher={Informs}\n",
    "}\n",
    "\n",
    "-->\n",
    "\n",
    "The optmization model can represent as this form in this paper [CITE](#cite-bertsimas2004price):\n",
    "\n"
   ]
  },
  {
   "cell_type": "markdown",
   "metadata": {},
   "source": [
    "\n",
    "\\begin{array}{r l}\n",
    "    \\min        & z = \\sum_{j=1}^{n} c_j x_j & \\\\\n",
    "    \\text{s.t.} & \\sum_{j=1}^{n} a_{ij} x_{j} \\geq b_i & \\forall\\, i=1,\\dotsc,m \\\\\n",
    "                & x_j \\geq 0 & \\forall\\, j=1,\\dotsc,n \\\\\n",
    "\\end{array}"
   ]
  },
  {
   "cell_type": "markdown",
   "metadata": {},
   "source": [
    "where $a_{ij} \\in [\\bar a_{ij} -\\hat a_{ij},\\bar a_{ij} +\\hat a_{ij}]$"
   ]
  },
  {
   "cell_type": "markdown",
   "metadata": {},
   "source": [
    "We can define the uncerrtainty set is:\n",
    "\n",
    "$\\mathcal U_i = \\{ a_{ij}\\in \\mathbb {R} : a_{ij}= \\bar a_{ij} + \\hat a_{ij}d_{ij}, -1 \\leq d_{ij} \\leq 1, \\sum_{j \\in J_i} d_{ij} \\leq \\Gamma_i  \\}$\n",
    "\n",
    ",where $\\Gamma_i$ can be at most equal to the number of the uncertain parameters in the $i^{th}$ contraint; $J_i$ is the set of indexes of the constraints."
   ]
  },
  {
   "cell_type": "markdown",
   "metadata": {},
   "source": [
    "\\begin{array}{r l}\n",
    "\\min & z = \\sum_{j=1}^{n} c_j x_j & \\\\\n",
    "\\text{s.t.} & \\sum_{j=1}^{n} \\bar a_{ij} x_{j} - \\max_{S_i \\subseteq J_i, |S_i| = \\Gamma_i} { \\sum_{j \\in S_i} \\hat a_{ij} y_j } \\geq b_i & \\forall\\, i=1,\\dotsc,m \\\\\n",
    "& x_j \\leq y_j & \\forall\\, j=1,\\dotsc,n\\\\\n",
    "& x_j \\geq 0,y_j \\geq 0  & \\forall\\, j=1,\\dotsc,n\n",
    "\\end{array}"
   ]
  },
  {
   "cell_type": "markdown",
   "metadata": {},
   "source": [
    "If $\\Gamma_i = 0$, then it becomes the nominal problem; if m > $\\Gamma_i$ > 0, we are looking for the worst-case."
   ]
  },
  {
   "cell_type": "markdown",
   "metadata": {},
   "source": [
    "Use strong duality to take care of the max in the constraint, and substitute the the objective of the dual problem into the constraint.\n",
    "\n",
    "\\begin{array}{r l}\n",
    "\\min & z = \\sum_{j=1}^{n} c_j x_j \\\\\n",
    "s.t.\n",
    "& \\sum_{j=1}^{n} \\bar a_{ij} x_{j} - z_i \\Gamma_i - \\sum_{j \\in J_i} p_{ij} \\geq b_i & \\forall i \\\\\n",
    "& z_i + p_{ij} \\geq \\hat a_{ij} y_j & \\forall i, j\\in J_i\\\\\n",
    "& x_j \\leq y_j & \\forall j=1,...,n\\\\\n",
    "& p_{ij} \\geq 0 & \\forall i, j \\in J_i\\\\\n",
    "& z_i \\geq 0 & \\forall i\\\\\n",
    "& x_j \\geq 0,y_j \\geq 0  & \\forall j\n",
    "\\end{array}"
   ]
  },
  {
   "cell_type": "markdown",
   "metadata": {},
   "source": [
    "Therefore, the original problem can be reformulated to:\n",
    "\n",
    "\\begin{array}{r l}\n",
    "\\min & \\sum_{j=1}^{n} c_j x_j  \\\\\n",
    "s.t.\n",
    "& 0.9x_1 + 0.8x_2 + x_3 + 0.95x_4 + x_5 - z_1 \\Gamma_1 - \\sum_{j=1}^{n} p_{1j} \\geq 5 \\\\\n",
    "& 1.1x_1 + 0.3x_2 + 1.1x_3 + 1.01x_4 + 1.5x_5 - z_2 \\Gamma_2 - \\sum_{j=1}^{n} p_{2j} \\geq 9 \\\\\n",
    "& z_1 + p_{11} \\geq 0.3 y_1\\\\\n",
    "& z_1 + p_{12} \\geq 0.2 y_2\\\\\n",
    "& z_1 + p_{13} \\geq 0.1 y_3\\\\\n",
    "& z_1 + p_{14} \\geq 0.1 y_4\\\\\n",
    "& z_1 + p_{15} \\geq 0.05 y_5\\\\\n",
    "& z_2 + p_{21} \\geq 0.2 y_1\\\\\n",
    "& z_2 + p_{22} \\geq 0.25 y_2\\\\\n",
    "& z_2 + p_{23} \\geq 0.15 y_3\\\\\n",
    "& z_2 + p_{24} \\geq 0.12 y_4\\\\\n",
    "& z_2 + p_{25} \\geq 0.04 y_5\\\\\n",
    "& x_1 \\leq y_1 \\\\\n",
    "& x_2 \\leq y_2 \\\\\n",
    "& x_3 \\leq y_3 \\\\\n",
    "& x_4 \\leq y_4 \\\\\n",
    "& x_5 \\leq y_5 \\\\\n",
    "& p_{ij} \\geq 0 ,\\forall i,j\\\\\n",
    "& z_1,z_2 \\geq 0\\\\\n",
    "& y_1, y_2 , y_3 , y_4 , y_5 \\geq 0\\\\\n",
    "& x_1,x_2,x_3,x_4,x_5 \\geq 0\n",
    "\\end{array}"
   ]
  },
  {
   "cell_type": "markdown",
   "metadata": {},
   "source": [
    "|             | solar  | wind    |   coal   |   gas   |nuclear  | Load |\n",
    "|-------------|--------|------|------|------|-------|------|\n",
    "| Hour 1 (i=1)| 0.9±0.3| 0.8±0.2 | 1. ±0.1  | 0.95±0.1 | 1  ±0.05   | 5   |\n",
    "| Hour 2 (i=2)| 1.1±0.2| 0.3±0.25| 1.1±0.15 | 1.01±0.12| 1.5±0.04   | 9    |\n",
    "| Available   | j=1  | j=2  | j=3  | j=4  | j=5   |      |"
   ]
  },
  {
   "cell_type": "code",
   "execution_count": 11,
   "metadata": {},
   "outputs": [],
   "source": [
    "def robust2(g):\n",
    "    # Coefficients of the cost function\n",
    "    cost = np.array([ 1.1, 0.3, 1.1, 1.01, 1.5, # [x1,x2,x3,x4,x5,\n",
    "                      0.0, 0.0, 0.0, 0.0, 0.0,  # y1,y2,y3,y4,y5,\n",
    "                      0.0, 0.0,                 # z1, z2,\n",
    "                      0.0, 0.0, 0.0, 0.0, 0.0,  # p11, p12, p13, p14, p15,\n",
    "                      0.0, 0.0, 0.0, 0.0, 0.0]) # p21, p22, p23, p24, p25]\n",
    "\n",
    "    # Coefficients of the constraints\n",
    "    # [x1,x2,x3,x4,x5,y1,y2,y3,y4,y5,z1,z2, p11, p12, p13, p14, p15, p21, p22, p23, p24, p25]\n",
    "    cons1 = np.array([0.9, 0.8, 1. , 0.95, 1. , 0.0, 0.0, 0.0, 0.0, 0.0,-g[0],0.0,-1.0,-1.0,-1.0,-1.0,-1.0, 0.0, 0.0, 0.0, 0.0, 0.0])\n",
    "    cons2 = np.array([1.1, 0.3, 1.1, 1.01, 1.5, 0.0, 0.0, 0.0, 0.0, 0.0,0.0,-g[1], 0.0, 0.0, 0.0, 0.0, 0.0,-1.0,-1.0,-1.0,-1.0,-1.0])\n",
    "\n",
    "    #                 [x1,  x2,  x3,   x4,  x5,  y1,  y2,  y3,  y4,  y5,  z1,  z2, p11, p12, p13, p14, p15, p21, p22, p23, p24, p25]\n",
    "    cons3 = np.array([ 0.0, 0.0, 0.0, 0.0, 0.0,-0.3, 0.0, 0.0, 0.0, 0.0, 1.0, 0.0, 1.0, 0.0, 0.0, 0.0, 0.0, 0.0, 0.0, 0.0, 0.0, 0.0])\n",
    "    cons4 = np.array([ 0.0, 0.0, 0.0, 0.0, 0.0, 0.0,-0.2, 0.0, 0.0, 0.0, 1.0, 0.0, 0.0, 1.0, 0.0, 0.0, 0.0, 0.0, 0.0, 0.0, 0.0, 0.0])\n",
    "    cons5 = np.array([ 0.0, 0.0, 0.0, 0.0, 0.0, 0.0, 0.0,-0.1, 0.0, 0.0, 1.0, 0.0, 0.0, 0.0, 1.0, 0.0, 0.0, 0.0, 0.0, 0.0, 0.0, 0.0])\n",
    "    cons6 = np.array([ 0.0, 0.0, 0.0, 0.0, 0.0, 0.0, 0.0, 0.0,-0.1, 0.0, 1.0, 0.0, 0.0, 0.0, 0.0, 1.0, 0.0, 0.0, 0.0, 0.0, 0.0, 0.0])\n",
    "    cons7 = np.array([ 0.0, 0.0, 0.0, 0.0, 0.0, 0.0, 0.0, 0.0, 0.0,-0.05,1.0, 0.0, 0.0, 0.0, 0.0, 0.0, 1.0, 0.0, 0.0, 0.0, 0.0, 0.0])\n",
    "\n",
    "    cons8  = np.array([ 0.0, 0.0, 0.0, 0.0, 0.0,-0.2, 0.0, 0.0, 0.0, 0.0, 0.0, 1.0, 0.0, 0.0, 0.0, 0.0, 0.0, 1.0, 0.0, 0.0, 0.0, 0.0])\n",
    "    cons9  = np.array([ 0.0, 0.0, 0.0, 0.0, 0.0, 0.0,-0.25,0.0, 0.0, 0.0, 0.0, 1.0, 0.0, 0.0, 0.0, 0.0, 0.0, 0.0, 1.0, 0.0, 0.0, 0.0])\n",
    "    cons10 = np.array([ 0.0, 0.0, 0.0, 0.0, 0.0, 0.0, 0.0,-0.15,0.0, 0.0, 0.0, 1.0, 0.0, 0.0, 0.0, 0.0, 0.0, 0.0, 0.0, 1.0, 0.0, 0.0])\n",
    "    cons11 = np.array([ 0.0, 0.0, 0.0, 0.0, 0.0, 0.0, 0.0, 0.0,-0.12,0.0, 0.0, 1.0, 0.0, 0.0, 0.0, 0.0, 0.0, 0.0, 0.0, 0.0, 1.0, 0.0])\n",
    "    cons12 = np.array([ 0.0, 0.0, 0.0, 0.0, 0.0, 0.0, 0.0, 0.0, 0.0,-0.04,0.0, 1.0, 0.0, 0.0, 0.0, 0.0, 0.0, 0.0, 0.0, 0.0, 0.0, 1.0])\n",
    "    \n",
    "    cons13 = np.array([ -1.0,0.0, 0.0, 0.0, 0.0, 1.0, 0.0, 0.0, 0.0, 0.0, 0.0, 0.0, 0.0, 0.0, 0.0, 0.0, 0.0, 0.0, 0.0, 0.0, 0.0, 0.0])\n",
    "    cons14 = np.array([ 0.0, -1.0,0.0, 0.0, 0.0, 0.0, 1.0, 0.0, 0.0, 0.0, 0.0, 0.0, 0.0, 0.0, 0.0, 0.0, 0.0, 0.0, 0.0, 0.0, 0.0, 0.0])\n",
    "    cons15 = np.array([ 0.0, 0.0, -1.0,0.0, 0.0, 0.0, 0.0, 1.0, 0.0, 0.0, 0.0, 0.0, 0.0, 0.0, 0.0, 0.0, 0.0, 0.0, 0.0, 0.0, 0.0, 0.0])\n",
    "    cons16 = np.array([ 0.0, 0.0, 0.0, -1.0,0.0, 0.0, 0.0, 0.0, 1.0, 0.0, 0.0, 0.0, 0.0, 0.0, 0.0, 0.0, 0.0, 0.0, 0.0, 0.0, 0.0, 0.0])\n",
    "    cons17 = np.array([ 0.0, 0.0, 0.0, 0.0, -1.0,0.0, 0.0, 0.0, 0.0, 1.0, 0.0, 0.0, 0.0, 0.0, 0.0, 0.0, 0.0, 0.0, 0.0, 0.0, 0.0, 0.0])\n",
    "\n",
    "\n",
    "    # Cost function\n",
    "    fun = lambda x: np.sum(cost * x)\n",
    "\n",
    "    # Constraints - ineq: greater than 0\n",
    "    cons = ({'type': 'ineq', 'fun': lambda x: np.sum(cons1 * x)-5},\n",
    "            {'type': 'ineq', 'fun': lambda x: np.sum(cons2 * x)-9},\n",
    "            {'type': 'ineq', 'fun': lambda x: np.sum(cons3 * x)},\n",
    "            {'type': 'ineq', 'fun': lambda x: np.sum(cons4 * x)},\n",
    "            {'type': 'ineq', 'fun': lambda x: np.sum(cons5 * x)},\n",
    "            {'type': 'ineq', 'fun': lambda x: np.sum(cons6 * x)},\n",
    "            {'type': 'ineq', 'fun': lambda x: np.sum(cons7 * x)},\n",
    "            {'type': 'ineq', 'fun': lambda x: np.sum(cons8 * x)},\n",
    "            {'type': 'ineq', 'fun': lambda x: np.sum(cons9 * x)},\n",
    "            {'type': 'ineq', 'fun': lambda x: np.sum(cons10 * x)},\n",
    "            {'type': 'ineq', 'fun': lambda x: np.sum(cons11 * x)},\n",
    "            {'type': 'ineq', 'fun': lambda x: np.sum(cons12 * x)},\n",
    "            {'type': 'ineq', 'fun': lambda x: np.sum(cons13 * x)},\n",
    "            {'type': 'ineq', 'fun': lambda x: np.sum(cons14 * x)},      \n",
    "            {'type': 'ineq', 'fun': lambda x: np.sum(cons15 * x)},\n",
    "            {'type': 'ineq', 'fun': lambda x: np.sum(cons16 * x)},\n",
    "            {'type': 'ineq', 'fun': lambda x: np.sum(cons17 * x)}\n",
    "           )\n",
    "\n",
    "    # Bounds\n",
    "    bounds = ((0, None),) * 22\n",
    "\n",
    "    # Initial guess\n",
    "    init_guess = np.ones(22)\n",
    "\n",
    "    # Optimize\n",
    "    opt_results = minimize(fun, init_guess, method = 'SLSQP', bounds = bounds, constraints = cons, tol = 1e-8)\n",
    "    \n",
    "    Alocation = opt_results['x']\n",
    "    cost = opt_results['fun']\n",
    "    return cost, Alocation[0:5]"
   ]
  },
  {
   "cell_type": "markdown",
   "metadata": {},
   "source": [
    "If we asumme the same level of uncertainty, i.e., gamma_1 = gamma_2 =0\n",
    "We assume no uncertainty:"
   ]
  },
  {
   "cell_type": "code",
   "execution_count": 12,
   "metadata": {},
   "outputs": [
    {
     "name": "stdout",
     "output_type": "stream",
     "text": [
      "Cost function opt results:  9.0\n",
      "Alocation: \n"
     ]
    },
    {
     "data": {
      "image/png": "[encoded data removed]",
      "text/plain": [
       "<Figure size 432x288 with 1 Axes>"
      ]
     },
     "metadata": {},
     "output_type": "display_data"
    }
   ],
   "source": [
    "results = robust2([0, 0])\n",
    "print('Cost function opt results: ',round(results[0],2))\n",
    "print('Alocation: ')\n",
    "Alocation = results[1]\n",
    "sizes = Alocation.tolist()\n",
    "\n",
    "fig1, ax1 = plt.subplots()\n",
    "ax1.pie(sizes, labels=labels, autopct='%1.1f%%',\n",
    "        shadow=True, startangle=90)\n",
    "plt.show()\n"
   ]
  },
  {
   "cell_type": "markdown",
   "metadata": {},
   "source": [
    "If we asumme the same level of uncertainty, i.e., gamma_1 = gamma_2 =2\n",
    "We assume max uncertainty(the worst case):"
   ]
  },
  {
   "cell_type": "code",
   "execution_count": 13,
   "metadata": {},
   "outputs": [
    {
     "name": "stdout",
     "output_type": "stream",
     "text": [
      "Cost function opt results:  9.25\n",
      "Alocation: \n"
     ]
    },
    {
     "data": {
      "image/png": "[encoded data removed]",
      "text/plain": [
       "<Figure size 432x288 with 1 Axes>"
      ]
     },
     "metadata": {},
     "output_type": "display_data"
    }
   ],
   "source": [
    "results = robust2([2, 2])\n",
    "print('Cost function opt results: ',round(results[0],2))\n",
    "print('Alocation: ')\n",
    "Alocation = results[1]\n",
    "sizes = Alocation.tolist()\n",
    "\n",
    "fig1, ax1 = plt.subplots()\n",
    "ax1.pie(sizes, labels=labels, autopct='%1.1f%%',\n",
    "        shadow=True, startangle=90)\n",
    "plt.show()"
   ]
  },
  {
   "cell_type": "code",
   "execution_count": 14,
   "metadata": {},
   "outputs": [],
   "source": [
    "x = np.linspace(0, 2, 21)\n",
    "decision = [robust2([i, i]) for i in x]"
   ]
  },
  {
   "cell_type": "code",
   "execution_count": 15,
   "metadata": {},
   "outputs": [
    {
     "data": {
      "image/png": "[encoded data removed]",
      "text/plain": [
       "<Figure size 720x576 with 1 Axes>"
      ]
     },
     "metadata": {
      "needs_background": "light"
     },
     "output_type": "display_data"
    }
   ],
   "source": [
    "bar0 = []\n",
    "bar1 = []\n",
    "bar2 = []\n",
    "bar3 = []\n",
    "bar4 = []\n",
    "bar5 = []\n",
    "for i in decision:\n",
    "    bar0.append(i[0])\n",
    "    a = sum(i[1])\n",
    "    bar1.append(i[1][0]*i[0]/a)\n",
    "    bar2.append(i[1][1]*i[0]/a)\n",
    "    bar3.append(i[1][2]*i[0]/a)\n",
    "    bar4.append(i[1][3]*i[0]/a)\n",
    "    bar5.append(i[1][4]*i[0]/a)\n",
    "plt.figure(figsize=(10, 8))\n",
    "plt.bar(x, bar1, width = 0.05, align='center')\n",
    "plt.bar(x, bar2, width = 0.05, align='center', bottom = bar1)\n",
    "plt.bar(x, bar3, width = 0.05, align='center', bottom = [bar1[i] + bar2[i] for i in range(len(bar3))])\n",
    "plt.bar(x, bar4, width = 0.05, align='center', bottom = [bar1[i] + bar2[i]+ bar3[i] for i in range(len(bar3))])\n",
    "plt.bar(x, bar5, width = 0.05, align='center', bottom = [bar1[i] + bar2[i]+ bar3[i]+ bar4[i] for i in range(len(bar3))])\n",
    "\n",
    "\n",
    "plt.xlabel(\"Gamma_1 = Gamma_2\")\n",
    "\n",
    "plt.show()"
   ]
  },
  {
   "cell_type": "code",
   "execution_count": 16,
   "metadata": {},
   "outputs": [
    {
     "data": {
      "text/plain": [
       "[9.00000000000005,\n",
       " 9.015037594279365,\n",
       " 9.030125523012513,\n",
       " 9.045264040219873,\n",
       " 9.06045340046116,\n",
       " 9.075693860386789,\n",
       " 9.09098567818026,\n",
       " 9.106329115553123,\n",
       " 9.121724429416732,\n",
       " 9.13717188823031,\n",
       " 9.152671755725127,\n",
       " 9.168224298980979,\n",
       " 9.183829787233938,\n",
       " 9.199488494689742,\n",
       " 9.215200683282347,\n",
       " 9.23096663368039,\n",
       " 9.246575342465736,\n",
       " 9.246575342465913,\n",
       " 9.246575344808953,\n",
       " 9.246575342463018,\n",
       " 9.246575342465947]"
      ]
     },
     "execution_count": 16,
     "metadata": {},
     "output_type": "execute_result"
    }
   ],
   "source": [
    "bar0"
   ]
  }
 ],
 "metadata": {
  "celltoolbar": "Raw Cell Format",
  "kernelspec": {
   "display_name": "Python 3",
   "language": "python",
   "name": "python3"
  },
  "language_info": {
   "codemirror_mode": {
    "name": "ipython",
    "version": 3
   },
   "file_extension": ".py",
   "mimetype": "text/x-python",
   "name": "python",
   "nbconvert_exporter": "python",
   "pygments_lexer": "ipython3",
   "version": "3.7.6"
  }
 },
 "nbformat": 4,
 "nbformat_minor": 4
}
